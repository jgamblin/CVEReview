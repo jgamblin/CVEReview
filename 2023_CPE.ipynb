{
 "cells": [
  {
   "attachments": {},
   "cell_type": "markdown",
   "id": "36813e36",
   "metadata": {},
   "source": [
    "# 2023 CVE CPE Review "
   ]
  },
  {
   "cell_type": "code",
   "execution_count": 1,
   "id": "05dc04fc",
   "metadata": {},
   "outputs": [],
   "source": [
    "%%capture\n",
    "!mkdir -p jsondata\n",
    "%cd jsondata\n",
    "!rm *.json \n",
    "!rm *.zip \n",
    "!wget https://nvd.nist.gov/feeds/json/cve/1.1/nvdcve-1.1-{2002..2023}.json.zip \n",
    "!unzip -o \"*.zip\" \n",
    "!wget https://raw.githubusercontent.com/CVEProject/cve-website/dev/src/assets/data/CNAsList.json"
   ]
  },
  {
   "cell_type": "code",
   "execution_count": 2,
   "id": "diverse-prison",
   "metadata": {
    "tags": []
   },
   "outputs": [],
   "source": [
    "\n",
    "from IPython.core.magic import register_cell_magic\n",
    "from IPython.display import Markdown\n",
    "import calplot\n",
    "import datetime\n",
    "from datetime import date\n",
    "import glob\n",
    "import json\n",
    "import logging\n",
    "import matplotlib.pyplot as plt\n",
    "import numpy as np\n",
    "import pandas as pd\n",
    "import warnings\n",
    "\n",
    "@register_cell_magic\n",
    "def markdown(line, cell):\n",
    "    return Markdown(cell.format(**globals()))\n",
    "\n",
    "\n",
    "logging.getLogger('matplotlib.font_manager').disabled = True\n",
    "warnings.filterwarnings(\"ignore\")\n",
    "pd.set_option('display.width', 500)\n",
    "pd.set_option('display.max_rows', 50)\n",
    "pd.set_option('display.max_columns', 10)"
   ]
  },
  {
   "cell_type": "code",
   "execution_count": 3,
   "id": "f92622ef",
   "metadata": {},
   "outputs": [],
   "source": [
    "row_accumulator = []\n",
    "\n",
    "for filename in glob.glob('nvdcve-1.1-*.json'):\n",
    "    with open(filename, 'r', encoding='utf-8') as f:\n",
    "        nvd_data = json.load(f)\n",
    "        for cves in nvd_data['CVE_Items']:\n",
    "            if cves['configurations']['nodes'] != []:\n",
    "                if \"children\" in cves['configurations']['nodes'][0]:\n",
    "                    for j in range(len(cves['configurations']['nodes'][0]['children'])):\n",
    "                        for cpe in cves['configurations']['nodes'][0]['children'][j]['cpe_match']:\n",
    "                            if cpe['vulnerable'] == True:\n",
    "                                        cve = cves['cve']['CVE_data_meta']['ID']\n",
    "                                        try:\n",
    "                                            published_date = cves['publishedDate']\n",
    "                                        except KeyError:\n",
    "                                            published_date = 'Missing_Data'\n",
    "                                        cpe_string = cpe['cpe23Uri']\n",
    "                                        try:\n",
    "                                            end = cpe['versionEndExcluding']\n",
    "                                        except: \n",
    "                                            end = 'None'\n",
    "                                        try:\n",
    "                                            end2 = cpe['versionEndIncluding']\n",
    "                                        except: \n",
    "                                            end2 = 'None' \n",
    "                                        try:\n",
    "                                            start = cpe['versionStartExcluding']\n",
    "                                        except: \n",
    "                                            start = 'None'\n",
    "                                        try:\n",
    "                                            start2 = cpe['versionStartIncluding']\n",
    "                                        except: \n",
    "                                            start2 = 'None'     \n",
    "                                        new_row = { \n",
    "                                        'CVE': cve,\n",
    "                                        'Published': published_date,\n",
    "                                        'CPE' : cpe_string,\n",
    "                                        'StartI' : start,\n",
    "                                        'StartE' : start2,\n",
    "                                        'EndI' : end,\n",
    "                                        'EndE' : end2 \n",
    "                                        }\n",
    "                                        row_accumulator.append(new_row)\n",
    "        \n",
    "\n",
    "\n",
    "nvd = pd.DataFrame(row_accumulator)  \n",
    "nvd['Published'] = pd.to_datetime(nvd['Published'])\n",
    "thisyear = ((nvd['Published'] > '2023-01-01') & (nvd['Published']  < '2024-01-01'))\n",
    "nvd = nvd.loc[thisyear]\n",
    "nvd = nvd.sort_values(by=['Published'])\n",
    "nvd = nvd.reset_index(drop=True)\n",
    "nvdcount = nvd['Published'].count()\n",
    "nvdunique = nvd['Published'].nunique()\n",
    "startdate = date(2023, 1, 1)\n",
    "enddate  = date(2024, 1, 1)\n",
    "numberofdays = enddate - startdate \n",
    "per_day = nvdcount/numberofdays.days"
   ]
  },
  {
   "attachments": {},
   "cell_type": "markdown",
   "id": "eeafbfa0",
   "metadata": {},
   "source": [
    "### CVEs With Most CPEs\n"
   ]
  },
  {
   "cell_type": "code",
   "execution_count": 4,
   "id": "c3a82997",
   "metadata": {},
   "outputs": [
    {
     "data": {
      "text/plain": [
       "CVE-2023-44183    240\n",
       "CVE-2023-36848    213\n",
       "CVE-2023-36850    207\n",
       "CVE-2023-20187    201\n",
       "CVE-2023-20027    190\n",
       "CVE-2023-36832    181\n",
       "CVE-2023-28976    152\n",
       "CVE-2023-28972    149\n",
       "CVE-2023-22394    127\n",
       "CVE-2023-1697     122\n",
       "CVE-2023-22409    122\n",
       "CVE-2023-28959    121\n",
       "CVE-2023-22411    114\n",
       "CVE-2023-22404    109\n",
       "CVE-2023-22417    105\n",
       "CVE-2023-22415    105\n",
       "CVE-2023-28974    104\n",
       "CVE-2023-28965    101\n",
       "CVE-2023-36838    101\n",
       "CVE-2023-20227     96\n",
       "Name: CVE, dtype: int64"
      ]
     },
     "execution_count": 4,
     "metadata": {},
     "output_type": "execute_result"
    }
   ],
   "source": [
    "nvd['CVE'].value_counts().head(20)"
   ]
  },
  {
   "attachments": {},
   "cell_type": "markdown",
   "id": "91c89e8b",
   "metadata": {},
   "source": [
    "## Most Common CPEs"
   ]
  },
  {
   "cell_type": "code",
   "execution_count": 5,
   "id": "ba0b2943",
   "metadata": {},
   "outputs": [
    {
     "data": {
      "text/plain": [
       "cpe:2.3:o:google:android:12.0:*:*:*:*:*:*:*                                    547\n",
       "cpe:2.3:o:google:android:11.0:*:*:*:*:*:*:*                                    451\n",
       "cpe:2.3:o:google:android:13.0:*:*:*:*:*:*:*                                    385\n",
       "cpe:2.3:o:google:android:10.0:*:*:*:*:*:*:*                                    287\n",
       "cpe:2.3:o:google:android:11.0:-:*:*:*:*:*:*                                     99\n",
       "cpe:2.3:a:adobe:acrobat_dc:*:*:*:*:continuous:*:*:*                             92\n",
       "cpe:2.3:a:adobe:acrobat_reader_dc:*:*:*:*:continuous:*:*:*                      92\n",
       "cpe:2.3:o:arubanetworks:arubaos:*:*:*:*:*:*:*:*                                 87\n",
       "cpe:2.3:o:google:android:12.0:-:*:*:*:*:*:*                                     79\n",
       "cpe:2.3:o:insteon:hub_firmware:1012:*:*:*:*:*:*:*                               76\n",
       "cpe:2.3:a:nvidia:virtual_gpu:*:*:*:*:*:*:*:*                                    75\n",
       "cpe:2.3:o:qualcomm:aqt1000_firmware:-:*:*:*:*:*:*:*                             71\n",
       "cpe:2.3:a:adobe:dimension:*:*:*:*:*:*:*:*                                       68\n",
       "cpe:2.3:o:google:android:13.0:-:*:*:*:*:*:*                                     65\n",
       "cpe:2.3:o:milesight:ur32l_firmware:32.3.0.5:*:*:*:*:*:*:*                       63\n",
       "cpe:2.3:o:siretta:quartz-gold_firmware:g5.0.1.5-210720-141020:*:*:*:*:*:*:*     62\n",
       "cpe:2.3:o:qualcomm:315_5g_iot_modem_firmware:-:*:*:*:*:*:*:*                    54\n",
       "cpe:2.3:a:foxit:pdf_editor:*:*:*:*:*:*:*:*                                      54\n",
       "cpe:2.3:a:linuxfoundation:yocto:4.0:*:*:*:*:*:*:*                               53\n",
       "cpe:2.3:a:adobe:after_effects:*:*:*:*:*:*:*:*                                   50\n",
       "Name: CPE, dtype: int64"
      ]
     },
     "execution_count": 5,
     "metadata": {},
     "output_type": "execute_result"
    }
   ],
   "source": [
    "nvd['CPE'].value_counts().head(20)"
   ]
  },
  {
   "cell_type": "code",
   "execution_count": 6,
   "id": "f366833e",
   "metadata": {},
   "outputs": [
    {
     "data": {
      "text/plain": [
       "count    3119.000000\n",
       "mean        4.645720\n",
       "std        17.241405\n",
       "min         1.000000\n",
       "25%         1.000000\n",
       "50%         1.000000\n",
       "75%         3.000000\n",
       "max       547.000000\n",
       "Name: CPE, dtype: float64"
      ]
     },
     "execution_count": 6,
     "metadata": {},
     "output_type": "execute_result"
    }
   ],
   "source": [
    "nvd['CPE'].value_counts().describe()"
   ]
  }
 ],
 "metadata": {
  "interpreter": {
   "hash": "aee8b7b246df8f9039afb4144a1f6fd8d2ca17a180786b69acc140d282b71a49"
  },
  "kernelspec": {
   "display_name": "Python 3.9.13 64-bit",
   "language": "python",
   "name": "python3"
  },
  "language_info": {
   "codemirror_mode": {
    "name": "ipython",
    "version": 3
   },
   "file_extension": ".py",
   "mimetype": "text/x-python",
   "name": "python",
   "nbconvert_exporter": "python",
   "pygments_lexer": "ipython3",
   "version": "3.10.13"
  }
 },
 "nbformat": 4,
 "nbformat_minor": 5
}
